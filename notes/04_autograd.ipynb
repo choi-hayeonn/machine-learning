{
 "cells": [
  {
   "cell_type": "markdown",
   "id": "109e793d",
   "metadata": {},
   "source": [
    "## 04. Autograd(자동미분)\n",
    "- Pytorch는 Tensor의 모든 연산에 대해 자동미분이 가능함\n",
    "- 자동미분은 역전파에 활용됨\n",
    "- `requires_grad` : Tensor의 속성으로, True로 설정해야 자동미분이 가능\n",
    "- `tensor.backward()` : 미분 실행\n",
    "- `tensor.grad` : 미분값을 확인할 수 있는 속성"
   ]
  },
  {
   "cell_type": "code",
   "execution_count": 1,
   "id": "509eff7e",
   "metadata": {},
   "outputs": [],
   "source": [
    "import torch"
   ]
  },
  {
   "cell_type": "code",
   "execution_count": 7,
   "id": "13824226",
   "metadata": {},
   "outputs": [
    {
     "name": "stdout",
     "output_type": "stream",
     "text": [
      "tensor([1.], grad_fn=<PowBackward0>)\n",
      "미분 전 :  None\n",
      "tensor([3.], grad_fn=<MulBackward0>)\n",
      "z 미분 후 :  tensor([6.])\n"
     ]
    }
   ],
   "source": [
    "x = torch.tensor([1.], requires_grad=True)\n",
    "y = x ** 2\n",
    "print(y)\n",
    "print(\"미분 전 : \", x.grad)\n",
    "\n",
    "# y.backward()    # 미분 실행\n",
    "# print(\"미분 후 : \", x.grad)\n",
    "\n",
    "z = 3 * y\n",
    "print(z)\n",
    "\n",
    "z.backward()    # 미분 실행\n",
    "print(\"z 미분 후 : \", x.grad)"
   ]
  },
  {
   "cell_type": "code",
   "execution_count": 10,
   "id": "2fe4bb9f",
   "metadata": {},
   "outputs": [
    {
     "name": "stdout",
     "output_type": "stream",
     "text": [
      "tensor([8.])\n",
      "False\n",
      "8.0\n"
     ]
    }
   ],
   "source": [
    "x = torch.tensor([1.], requires_grad=True)\n",
    "a = x ** 2\n",
    "b = a + 1\n",
    "c = b ** 2\n",
    "c.backward()\n",
    "print(x.grad)\n",
    "result = x.grad.detach()\n",
    "print(result.requires_grad)\n",
    "print(result.item())"
   ]
  },
  {
   "cell_type": "code",
   "execution_count": null,
   "id": "8e6e9d55",
   "metadata": {},
   "outputs": [
    {
     "name": "stdout",
     "output_type": "stream",
     "text": [
      "tensor([11.], grad_fn=<AddBackward0>)\n",
      "tensor([4.])\n",
      "tensor([6.])\n"
     ]
    }
   ],
   "source": [
    "# 다변수 함수 미분\n",
    "x = torch.tensor([1.], requires_grad=True)\n",
    "y = torch.tensor([3.], requires_grad=True)\n",
    "z = 2 * (x ** 2) + y ** 2\n",
    "print(z)\n",
    "z.backward()\n",
    "print(x.grad)\n",
    "print(y.grad)"
   ]
  },
  {
   "cell_type": "code",
   "execution_count": null,
   "id": "97a7292e",
   "metadata": {},
   "outputs": [
    {
     "name": "stdout",
     "output_type": "stream",
     "text": [
      "True\n",
      "tensor([1.])\n",
      "True\n"
     ]
    }
   ],
   "source": [
    "# with torch.no_grad():\n",
    "# gran_fn을 계산하고 싶지 않을 때 사용\n",
    "# => 모델 훈련 후 test data를 가지고 평가할 때 사용\n",
    "\n",
    "x = torch.tensor([1.], requires_grad=True)\n",
    "\n",
    "with torch.no_grad():\n",
    "    y = x ** 2\n",
    "    print(x.requires_grad)\n",
    "    print(y)\n",
    "    \n",
    "print(x.requires_grad)\n",
    "# y.backward()    -> with 구문 안쪽의 y로 미분 시도 시 error\n",
    "y = x ** 2         # with 구문 밖에서 재정의 \n",
    "y.backward()   "
   ]
  }
 ],
 "metadata": {
  "kernelspec": {
   "display_name": "torch_study",
   "language": "python",
   "name": "python3"
  },
  "language_info": {
   "codemirror_mode": {
    "name": "ipython",
    "version": 3
   },
   "file_extension": ".py",
   "mimetype": "text/x-python",
   "name": "python",
   "nbconvert_exporter": "python",
   "pygments_lexer": "ipython3",
   "version": "3.13.7"
  }
 },
 "nbformat": 4,
 "nbformat_minor": 5
}
