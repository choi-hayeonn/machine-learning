{
 "cells": [
  {
   "cell_type": "markdown",
   "id": "55f1ce95",
   "metadata": {},
   "source": [
    "## 03. 텐서의 조작"
   ]
  },
  {
   "cell_type": "code",
   "execution_count": 1,
   "id": "944b8ea5",
   "metadata": {},
   "outputs": [],
   "source": [
    "import torch"
   ]
  },
  {
   "cell_type": "markdown",
   "id": "5388dbe2",
   "metadata": {},
   "source": [
    "### 3-1. 인덱싱, 슬라이싱\n",
    "- NumPy와 동일한 방식으로 인덱싱, 슬라이싱 가능"
   ]
  },
  {
   "cell_type": "code",
   "execution_count": null,
   "id": "202d37d0",
   "metadata": {},
   "outputs": [
    {
     "name": "stdout",
     "output_type": "stream",
     "text": [
      "tensor(5)\n",
      "tensor(7)\n",
      "tensor([1, 2, 3])\n",
      "tensor([3, 6, 9])\n",
      "tensor([1, 5, 9])\n",
      "tensor([6, 7, 8, 9])\n"
     ]
    }
   ],
   "source": [
    "x = torch.tensor([[1,2,3],\n",
    "                    [4,5,6],\n",
    "                    [7,8,9]])\n",
    "print(x[1,1])\n",
    "print(x[2,0])\n",
    "print(x[0,:])   # 0행 전체\n",
    "print(x[:,2])   # 2열 전체\n",
    "print(x[[0,1,2],[0,1,2]])   # fancy indexing\n",
    "print(x[x>5])   # boolean indexing"
   ]
  },
  {
   "cell_type": "code",
   "execution_count": null,
   "id": "c4e67cb1",
   "metadata": {},
   "outputs": [
    {
     "name": "stdout",
     "output_type": "stream",
     "text": [
      "tensor([100,  20,  30,  40,  50])\n",
      "tensor([100, 200, 300, 400,  50])\n"
     ]
    }
   ],
   "source": [
    "x = torch.tensor([10,20,30,40,50])\n",
    "\n",
    "x[0] = 100\n",
    "print(x)\n",
    "\n",
    "# 슬라이싱으로 값을 변경할 시 tensor로 값을 할당\n",
    "x[1:4] = torch.tensor([200,300,400])\n",
    "print(x)"
   ]
  },
  {
   "cell_type": "markdown",
   "id": "a608c633",
   "metadata": {},
   "source": [
    "### 3-2. 텐서의 크기, 모양 변경\n",
    "- `torch.view()`"
   ]
  },
  {
   "cell_type": "code",
   "execution_count": 14,
   "id": "1c737f67",
   "metadata": {},
   "outputs": [
    {
     "name": "stdout",
     "output_type": "stream",
     "text": [
      "tensor([[-0.8578, -0.3813,  2.1046,  0.6889, -0.7363],\n",
      "        [-1.3594, -0.6031,  0.2960, -0.6102, -0.7965],\n",
      "        [ 0.8162,  0.2322,  0.4356, -0.5500,  0.8381],\n",
      "        [ 0.8179, -0.0028, -1.7881,  1.3005,  0.9903]])\n",
      "tensor([-0.8578, -0.3813,  2.1046,  0.6889, -0.7363, -1.3594, -0.6031,  0.2960,\n",
      "        -0.6102, -0.7965,  0.8162,  0.2322,  0.4356, -0.5500,  0.8381,  0.8179,\n",
      "        -0.0028, -1.7881,  1.3005,  0.9903])\n",
      "tensor([[-0.8578, -0.3813,  2.1046,  0.6889],\n",
      "        [-0.7363, -1.3594, -0.6031,  0.2960],\n",
      "        [-0.6102, -0.7965,  0.8162,  0.2322],\n",
      "        [ 0.4356, -0.5500,  0.8381,  0.8179],\n",
      "        [-0.0028, -1.7881,  1.3005,  0.9903]])\n"
     ]
    }
   ],
   "source": [
    "x = torch.randn(4,5)\n",
    "print(x)\n",
    "y = x.view(20)\n",
    "print(y)\n",
    "z = y.view(5, -1)   # -1 -> 자동 계산\n",
    "print(z)"
   ]
  },
  {
   "cell_type": "markdown",
   "id": "73526626",
   "metadata": {},
   "source": [
    "### 3-3. 텐서의 숫자값 얻기\n",
    "- `tensor.item()` : 스칼라 값 하나만 존재해야 사용 가능"
   ]
  },
  {
   "cell_type": "code",
   "execution_count": null,
   "id": "c4b2a339",
   "metadata": {},
   "outputs": [
    {
     "name": "stdout",
     "output_type": "stream",
     "text": [
      "tensor([0.7903])\n",
      "tensor(0.7903)\n",
      "0.7902902960777283\n"
     ]
    }
   ],
   "source": [
    "x = torch.rand(1)\n",
    "print(x)\n",
    "print(x[0])\n",
    "print(x.item())"
   ]
  },
  {
   "cell_type": "markdown",
   "id": "cf201bfa",
   "metadata": {},
   "source": [
    "### 3-4. 차원 축소 및 증가"
   ]
  },
  {
   "cell_type": "markdown",
   "id": "167ca83f",
   "metadata": {},
   "source": [
    "#### 차원 축소(제거)\n",
    "- `torch.squeeze()` : 크기가 1인 차원을 제거"
   ]
  },
  {
   "cell_type": "code",
   "execution_count": 17,
   "id": "30dc54ba",
   "metadata": {},
   "outputs": [
    {
     "name": "stdout",
     "output_type": "stream",
     "text": [
      "tensor([[[0.1845, 0.0785, 0.3545]],\n",
      "\n",
      "        [[0.9480, 0.7072, 0.7251]],\n",
      "\n",
      "        [[0.7180, 0.5341, 0.5407]]])\n",
      "torch.Size([3, 1, 3])\n",
      "tensor([[0.1845, 0.0785, 0.3545],\n",
      "        [0.9480, 0.7072, 0.7251],\n",
      "        [0.7180, 0.5341, 0.5407]])\n",
      "torch.Size([3, 3])\n"
     ]
    }
   ],
   "source": [
    "t = torch.rand(3, 1, 3)\n",
    "print(t)\n",
    "print(t.shape)\n",
    "\n",
    "ts = torch.squeeze(t)\n",
    "print(ts)\n",
    "print(ts.shape)"
   ]
  },
  {
   "cell_type": "markdown",
   "id": "8a0d6b3c",
   "metadata": {},
   "source": [
    "#### 차원 증가(생성)\n",
    "- `torch.unsqueeze()` : dim 설정에 따라 차원을 증가시킴"
   ]
  },
  {
   "cell_type": "code",
   "execution_count": 21,
   "id": "4f92d109",
   "metadata": {},
   "outputs": [
    {
     "name": "stdout",
     "output_type": "stream",
     "text": [
      "tensor([[[0.8039, 0.2665, 0.3392],\n",
      "         [0.8109, 0.6362, 0.5942],\n",
      "         [0.0584, 0.3617, 0.8976]],\n",
      "\n",
      "        [[0.3862, 0.6349, 0.8777],\n",
      "         [0.5903, 0.5702, 0.1722],\n",
      "         [0.9476, 0.3991, 0.5919]],\n",
      "\n",
      "        [[0.8191, 0.4219, 0.5202],\n",
      "         [0.2357, 0.7142, 0.2514],\n",
      "         [0.3292, 0.2830, 0.6267]]])\n",
      "torch.Size([3, 3, 3])\n",
      "tensor([[[[0.8039, 0.2665, 0.3392],\n",
      "          [0.8109, 0.6362, 0.5942],\n",
      "          [0.0584, 0.3617, 0.8976]],\n",
      "\n",
      "         [[0.3862, 0.6349, 0.8777],\n",
      "          [0.5903, 0.5702, 0.1722],\n",
      "          [0.9476, 0.3991, 0.5919]],\n",
      "\n",
      "         [[0.8191, 0.4219, 0.5202],\n",
      "          [0.2357, 0.7142, 0.2514],\n",
      "          [0.3292, 0.2830, 0.6267]]]])\n",
      "torch.Size([1, 3, 3, 3])\n",
      "tensor([[[[0.8039, 0.2665, 0.3392],\n",
      "          [0.8109, 0.6362, 0.5942],\n",
      "          [0.0584, 0.3617, 0.8976]]],\n",
      "\n",
      "\n",
      "        [[[0.3862, 0.6349, 0.8777],\n",
      "          [0.5903, 0.5702, 0.1722],\n",
      "          [0.9476, 0.3991, 0.5919]]],\n",
      "\n",
      "\n",
      "        [[[0.8191, 0.4219, 0.5202],\n",
      "          [0.2357, 0.7142, 0.2514],\n",
      "          [0.3292, 0.2830, 0.6267]]]])\n",
      "torch.Size([3, 1, 3, 3])\n"
     ]
    }
   ],
   "source": [
    "t = torch.rand(3,3,3)\n",
    "print(t)\n",
    "print(t.shape)\n",
    "\n",
    "ts1 = torch.unsqueeze(t, dim=0)\n",
    "print(ts1)\n",
    "print(ts1.shape)\n",
    "\n",
    "ts2 = torch.unsqueeze(t, dim=1)\n",
    "print(ts2)\n",
    "print(ts2.shape)"
   ]
  }
 ],
 "metadata": {
  "kernelspec": {
   "display_name": "torch_study",
   "language": "python",
   "name": "python3"
  },
  "language_info": {
   "codemirror_mode": {
    "name": "ipython",
    "version": 3
   },
   "file_extension": ".py",
   "mimetype": "text/x-python",
   "name": "python",
   "nbconvert_exporter": "python",
   "pygments_lexer": "ipython3",
   "version": "3.13.7"
  }
 },
 "nbformat": 4,
 "nbformat_minor": 5
}
