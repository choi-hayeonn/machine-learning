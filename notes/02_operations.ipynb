{
 "cells": [
  {
   "cell_type": "markdown",
   "id": "afdb7799",
   "metadata": {},
   "source": [
    "## 02. 텐서의 **연산**"
   ]
  },
  {
   "cell_type": "code",
   "execution_count": 2,
   "id": "502e4eb9",
   "metadata": {},
   "outputs": [],
   "source": [
    "import torch"
   ]
  },
  {
   "cell_type": "markdown",
   "id": "cbb0edaa",
   "metadata": {},
   "source": [
    "### 2-1. 산술연산"
   ]
  },
  {
   "cell_type": "code",
   "execution_count": 6,
   "id": "06ff8121",
   "metadata": {},
   "outputs": [
    {
     "name": "stdout",
     "output_type": "stream",
     "text": [
      "tensor([[1., 1.],\n",
      "        [1., 1.]])\n",
      "tensor([[2., 2.],\n",
      "        [2., 2.]])\n",
      "tensor([[5., 5.],\n",
      "        [5., 5.]])\n"
     ]
    }
   ],
   "source": [
    "x = torch.ones(2,2)\n",
    "print(x)\n",
    "x = x * 2\n",
    "print(x)\n",
    "x = x + 3\n",
    "print(x)"
   ]
  },
  {
   "cell_type": "code",
   "execution_count": 12,
   "id": "dbdeb2d7",
   "metadata": {},
   "outputs": [
    {
     "name": "stdout",
     "output_type": "stream",
     "text": [
      "더하기\n",
      "tensor([[5, 5],\n",
      "        [5, 5]])\n",
      "tensor([[5, 5],\n",
      "        [5, 5]])\n",
      "빼기\n",
      "tensor([[-3, -1],\n",
      "        [ 1,  3]])\n",
      "tensor([[-3, -1],\n",
      "        [ 1,  3]])\n",
      "곱하기\n",
      "tensor([[4, 6],\n",
      "        [6, 4]])\n",
      "tensor([[4, 6],\n",
      "        [6, 4]])\n",
      "나누기\n",
      "tensor([[0.2500, 0.6667],\n",
      "        [1.5000, 4.0000]])\n",
      "tensor([[0.2500, 0.6667],\n",
      "        [1.5000, 4.0000]])\n"
     ]
    }
   ],
   "source": [
    "# 연산의 결과가 원본을 변경하지는 않음\n",
    "\n",
    "x = torch.tensor([[1,2],[3,4]])\n",
    "y = torch.tensor([[4,3],[2,1]])\n",
    "\n",
    "# 더하기\n",
    "add = torch.add(x, y)\n",
    "print(\"더하기\")\n",
    "print(add)\n",
    "print(x+y)\n",
    "\n",
    "# 빼기\n",
    "sub = torch.sub(x, y)\n",
    "print(\"빼기\")\n",
    "print(sub)\n",
    "print(x-y)\n",
    "\n",
    "# 곱하기\n",
    "mul = torch.mul(x, y)\n",
    "print(\"곱하기\")\n",
    "print(mul)\n",
    "print(x*y)\n",
    "\n",
    "# 나누기\n",
    "div = torch.div(x, y)\n",
    "print(\"나누기\")\n",
    "print(div)\n",
    "print(x/y)\n"
   ]
  }
 ],
 "metadata": {
  "kernelspec": {
   "display_name": "torch_study",
   "language": "python",
   "name": "python3"
  },
  "language_info": {
   "codemirror_mode": {
    "name": "ipython",
    "version": 3
   },
   "file_extension": ".py",
   "mimetype": "text/x-python",
   "name": "python",
   "nbconvert_exporter": "python",
   "pygments_lexer": "ipython3",
   "version": "3.13.7"
  }
 },
 "nbformat": 4,
 "nbformat_minor": 5
}
