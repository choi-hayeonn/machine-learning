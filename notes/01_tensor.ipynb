{
 "cells": [
  {
   "cell_type": "markdown",
   "id": "0e20038d",
   "metadata": {},
   "source": [
    "## PyTorch\n",
    "- GPU를 이용한 동적 신경망 구축이 가능한 딥러닝 프레임 워크"
   ]
  },
  {
   "cell_type": "markdown",
   "id": "f425b55c",
   "metadata": {},
   "source": [
    "### PyTorch의 구성요소\n",
    "- 'torch' : 메인 네임스페이스, 텐서 등의 다양한 함수가 포함\n",
    "- 'torch.autograd' : 자동 미분 기능을 제공하는 라이브러리\n",
    "- 'torch.nn' : 신경망 구축을 위한 데이터 구조, 레이어 등을 제공하는 라이브러리\n",
    "- 'torch.multiprocessing' : 병렬 처리 기능을 제공하는 라이브러리\n",
    "- 'torch.optim' : SGD(Stochastic Gradient Descent, 확률적 경사 하강법) 등 파라미터 최적화 알고리즘 제공\n",
    "- 'torch.utils' : 데이터 조작 등 유틸리티 기능 제공"
   ]
  },
  {
   "cell_type": "markdown",
   "id": "800d6d01",
   "metadata": {},
   "source": [
    "## 01. 텐서(Tensor)\n",
    "- 방향성과 크기를 동시에 표현하는 다차원 배열"
   ]
  },
  {
   "cell_type": "code",
   "execution_count": 2,
   "id": "7d68fb56",
   "metadata": {},
   "outputs": [
    {
     "name": "stdout",
     "output_type": "stream",
     "text": [
      "2.8.0+cu126\n"
     ]
    }
   ],
   "source": [
    "import torch\n",
    "import numpy as np\n",
    "\n",
    "print(torch.__version__)"
   ]
  },
  {
   "cell_type": "markdown",
   "id": "109a1bb4",
   "metadata": {},
   "source": [
    "### 1-1. 텐서의 초기화\n",
    "- 초기화 : 텐서를 생성하고 특정 값을 (최초로) 채우는 것"
   ]
  },
  {
   "cell_type": "markdown",
   "id": "73866e89",
   "metadata": {},
   "source": [
    "#### 초기화 되지 않는 텐서"
   ]
  },
  {
   "cell_type": "code",
   "execution_count": 4,
   "id": "d1ff7311",
   "metadata": {},
   "outputs": [
    {
     "name": "stdout",
     "output_type": "stream",
     "text": [
      "tensor([[9.9812e+27, 9.0524e-43],\n",
      "        [0.0000e+00, 0.0000e+00],\n",
      "        [0.0000e+00, 0.0000e+00],\n",
      "        [0.0000e+00, 0.0000e+00]])\n"
     ]
    }
   ],
   "source": [
    "x = torch.empty(4,2)\n",
    "print(x)"
   ]
  },
  {
   "cell_type": "markdown",
   "id": "7f8999d1",
   "metadata": {},
   "source": [
    "#### 무작위로 초기화된 텐서\n",
    "- 'rand' : 0과 1 사이의 값으로 랜덤하게 초기화된 텐서\n",
    "- 'randn' : 표준정규분포를 따르는 랜덤한 값으로 초기화된 텐서 생성"
   ]
  },
  {
   "cell_type": "code",
   "execution_count": 5,
   "id": "a9c996c4",
   "metadata": {},
   "outputs": [
    {
     "name": "stdout",
     "output_type": "stream",
     "text": [
      "tensor([[0.0020, 0.6321],\n",
      "        [0.1628, 0.4403],\n",
      "        [0.7447, 0.9031],\n",
      "        [0.1368, 0.3092]])\n",
      "tensor([[-0.1722, -1.5022, -0.1166],\n",
      "        [ 0.4439,  1.4717, -0.2968]])\n"
     ]
    }
   ],
   "source": [
    "x = torch.rand(4,2)\n",
    "y = torch.randn(2,3)\n",
    "\n",
    "print(x)\n",
    "print(y)"
   ]
  },
  {
   "cell_type": "markdown",
   "id": "28d8fbc7",
   "metadata": {},
   "source": [
    "#### 0으로 채워진 텐서"
   ]
  },
  {
   "cell_type": "code",
   "execution_count": 6,
   "id": "3b3c599e",
   "metadata": {},
   "outputs": [
    {
     "name": "stdout",
     "output_type": "stream",
     "text": [
      "tensor([[0, 0],\n",
      "        [0, 0],\n",
      "        [0, 0],\n",
      "        [0, 0]])\n"
     ]
    }
   ],
   "source": [
    "x = torch.zeros(4,2, dtype=torch.long)\n",
    "print(x)"
   ]
  },
  {
   "cell_type": "markdown",
   "id": "d37aaa30",
   "metadata": {},
   "source": [
    "#### 1로 채워진 텐서"
   ]
  },
  {
   "cell_type": "code",
   "execution_count": 7,
   "id": "da053da8",
   "metadata": {},
   "outputs": [
    {
     "name": "stdout",
     "output_type": "stream",
     "text": [
      "tensor([[1., 1., 1., 1.],\n",
      "        [1., 1., 1., 1.]], dtype=torch.float64)\n",
      "tensor([[1., 1.],\n",
      "        [1., 1.],\n",
      "        [1., 1.]], dtype=torch.float64)\n"
     ]
    }
   ],
   "source": [
    "x = torch.ones(2,4, dtype=torch.double)\n",
    "print(x)\n",
    "\n",
    "# 기존 텐서의 속성(데이터 타입, 장치)을 물려받음\n",
    "y = x.new_ones(3,2)\n",
    "print(y)"
   ]
  },
  {
   "cell_type": "markdown",
   "id": "579daf88",
   "metadata": {},
   "source": [
    "#### 사용자가 입력한 값으로 텐서 초기화"
   ]
  },
  {
   "cell_type": "code",
   "execution_count": 8,
   "id": "b48a3c39",
   "metadata": {},
   "outputs": [
    {
     "name": "stdout",
     "output_type": "stream",
     "text": [
      "tensor([1.0000, 2.5000])\n"
     ]
    }
   ],
   "source": [
    "x = torch.tensor([1, 2.5])\n",
    "print(x)"
   ]
  },
  {
   "cell_type": "markdown",
   "id": "b7ad9f1c",
   "metadata": {},
   "source": [
    "#### numpy에서 불러오기"
   ]
  },
  {
   "cell_type": "code",
   "execution_count": 9,
   "id": "b34bb80f",
   "metadata": {},
   "outputs": [
    {
     "name": "stdout",
     "output_type": "stream",
     "text": [
      "tensor([1, 2, 3, 4])\n"
     ]
    }
   ],
   "source": [
    "data= [1,2,3,4]\n",
    "np_array = np.array(data)\n",
    "x = torch.from_numpy(np_array)\n",
    "print(x)"
   ]
  },
  {
   "cell_type": "code",
   "execution_count": 3,
   "id": "033c6cb5",
   "metadata": {},
   "outputs": [
    {
     "name": "stdout",
     "output_type": "stream",
     "text": [
      "<class 'numpy.ndarray'>\n"
     ]
    }
   ],
   "source": [
    "# Tensor를 Numpy 배열로 변환\n",
    "\n",
    "tensor = torch.tensor([1,2,3,4,5])\n",
    "# Numpy 배열로 변환\n",
    "numpy_array = tensor.numpy()\n",
    " # Numpy 배열 타입 확인\n",
    "print(type(numpy_array))"
   ]
  },
  {
   "cell_type": "markdown",
   "id": "23c46a2d",
   "metadata": {},
   "source": [
    "#### _like 메서드\n",
    "- 기존 텐서의 속성을 복사하면서 값만 다른 텐서를 만드는 메서드"
   ]
  },
  {
   "cell_type": "code",
   "execution_count": 10,
   "id": "7b026a00",
   "metadata": {},
   "outputs": [
    {
     "name": "stdout",
     "output_type": "stream",
     "text": [
      "tensor([[0., 0.],\n",
      "        [0., 0.]], dtype=torch.float64)\n"
     ]
    }
   ],
   "source": [
    "x = torch.tensor([[1,2],[3,4]], dtype=torch.float64)\n",
    "y = torch.zeros_like(x)\n",
    "print(y)"
   ]
  },
  {
   "cell_type": "markdown",
   "id": "61361dc9",
   "metadata": {},
   "source": [
    "### 1-2. 텐서의 속성"
   ]
  },
  {
   "cell_type": "code",
   "execution_count": 11,
   "id": "19ee0dc3",
   "metadata": {},
   "outputs": [
    {
     "name": "stdout",
     "output_type": "stream",
     "text": [
      "<built-in method size of Tensor object at 0x000001F734F90460>\n",
      "torch.Size([3, 4])\n",
      "torch.float32\n",
      "cpu\n"
     ]
    }
   ],
   "source": [
    "t = torch.rand(3,4)\n",
    "print(t.size)   # 모양\n",
    "print(t.shape)  # 모양\n",
    "print(t.dtype)  # 자료형\n",
    "print(t.device) # 장치"
   ]
  },
  {
   "cell_type": "markdown",
   "id": "d6be6842",
   "metadata": {},
   "source": [
    "### 1-3. 데이터 타입"
   ]
  },
  {
   "cell_type": "markdown",
   "id": "380bb45e",
   "metadata": {},
   "source": [
    "#### 특정 데이터 타입의 센서"
   ]
  },
  {
   "cell_type": "code",
   "execution_count": 12,
   "id": "600a457b",
   "metadata": {},
   "outputs": [
    {
     "name": "stdout",
     "output_type": "stream",
     "text": [
      "torch.float32\n",
      "torch.float32\n"
     ]
    }
   ],
   "source": [
    "x = torch.FloatTensor([1,2,3])\n",
    "print(x.dtype)\n",
    "y = torch.tensor([1,2,3], dtype=torch.float32)\n",
    "print(y.dtype)"
   ]
  },
  {
   "cell_type": "markdown",
   "id": "a8cdbfa2",
   "metadata": {},
   "source": [
    "#### 타입 캐스팅"
   ]
  },
  {
   "cell_type": "code",
   "execution_count": 13,
   "id": "0dcff4d2",
   "metadata": {},
   "outputs": [
    {
     "name": "stdout",
     "output_type": "stream",
     "text": [
      "tensor([1.1000, 2.2000, 3.3000])\n",
      "tensor([1, 2, 3], dtype=torch.int16)\n",
      "tensor([1, 2, 3], dtype=torch.int32)\n",
      "tensor([1, 2, 3])\n",
      "tensor([1, 2, 3], dtype=torch.int32)\n",
      "tensor([1., 2., 3.], dtype=torch.float16)\n",
      "tensor([1., 2., 3.])\n",
      "tensor([1., 2., 3.], dtype=torch.float64)\n"
     ]
    }
   ],
   "source": [
    "ft = torch.FloatTensor([1.1,2.2,3.3])\n",
    "print(ft)\n",
    "print(ft.short())\n",
    "print(ft.int())\n",
    "print(ft.long())\n",
    "\n",
    "it = torch.IntTensor([1,2,3])\n",
    "print(it)\n",
    "print(it.half())\n",
    "print(it.float())\n",
    "print(it.double())"
   ]
  },
  {
   "cell_type": "markdown",
   "id": "b85865bf",
   "metadata": {},
   "source": [
    "#### CUDA Tnesor"
   ]
  },
  {
   "cell_type": "code",
   "execution_count": 14,
   "id": "d1746d8e",
   "metadata": {},
   "outputs": [
    {
     "name": "stdout",
     "output_type": "stream",
     "text": [
      "tensor([-0.2465])\n"
     ]
    }
   ],
   "source": [
    "x = torch.randn(1)\n",
    "print(x)\n",
    "\n",
    "if torch.cuda.is_available():\n",
    "    tensor = x.to(\"cuda\")"
   ]
  },
  {
   "cell_type": "code",
   "execution_count": 16,
   "id": "c7c95fa5",
   "metadata": {},
   "outputs": [
    {
     "name": "stdout",
     "output_type": "stream",
     "text": [
      "cpu\n",
      "tensor([[1., 1., 1.],\n",
      "        [1., 1., 1.]])\n"
     ]
    }
   ],
   "source": [
    "device = torch.device(\"cuda\" if torch.cuda.is_available() else \"cpu\")\n",
    "print(device)\n",
    "\n",
    "x = torch.ones(2,3, device=device)\n",
    "print(x)"
   ]
  },
  {
   "cell_type": "markdown",
   "id": "6677120b",
   "metadata": {},
   "source": [
    "### 1-4. 다차원 텐서 표현"
   ]
  },
  {
   "cell_type": "markdown",
   "id": "2a85a95a",
   "metadata": {},
   "source": [
    "#### 0D Tensor(Scalar)\n",
    "- 하나의 숫자를 담고 있는 텐서\n",
    "- 축과 형상이 없음"
   ]
  },
  {
   "cell_type": "code",
   "execution_count": 18,
   "id": "3cc24e5e",
   "metadata": {},
   "outputs": [
    {
     "name": "stdout",
     "output_type": "stream",
     "text": [
      "0\n",
      "torch.Size([])\n",
      "tensor(0)\n"
     ]
    }
   ],
   "source": [
    "t0 = torch.tensor(0)\n",
    "print(t0.ndim)\n",
    "print(t0.shape)\n",
    "print(t0)"
   ]
  },
  {
   "cell_type": "markdown",
   "id": "a6e98959",
   "metadata": {},
   "source": [
    "#### 1D Tensor(Vector)\n",
    "- 값들을 저장한 리스트와 유사한 텐서\n",
    "- 하나의 축이 존재"
   ]
  },
  {
   "cell_type": "code",
   "execution_count": 19,
   "id": "e71471f7",
   "metadata": {},
   "outputs": [
    {
     "name": "stdout",
     "output_type": "stream",
     "text": [
      "1\n",
      "torch.Size([3])\n",
      "tensor([1, 2, 3])\n"
     ]
    }
   ],
   "source": [
    "t1 = torch.tensor([1,2,3])\n",
    "print(t1.ndim)\n",
    "print(t1.shape)\n",
    "print(t1)"
   ]
  },
  {
   "cell_type": "markdown",
   "id": "4518473a",
   "metadata": {},
   "source": [
    "#### 2D Tensor(Matrix)\n",
    "- 행렬과 같은 모양으로 두개의 축이 존재\n",
    "- 일반적인 수치, 통계, 데이터 셋에 주로 활용"
   ]
  },
  {
   "cell_type": "code",
   "execution_count": 20,
   "id": "f3789ac7",
   "metadata": {},
   "outputs": [
    {
     "name": "stdout",
     "output_type": "stream",
     "text": [
      "2\n",
      "torch.Size([3, 3])\n",
      "tensor([[1, 2, 3],\n",
      "        [1, 2, 3],\n",
      "        [1, 2, 3]])\n"
     ]
    }
   ],
   "source": [
    "t2 = torch.tensor([[1,2,3], \n",
    "                   [1,2,3], \n",
    "                   [1,2,3]])\n",
    "print(t2.ndim)\n",
    "print(t2.shape)\n",
    "print(t2)"
   ]
  },
  {
   "cell_type": "markdown",
   "id": "ac5de721",
   "metadata": {},
   "source": [
    "#### 3D Tensor\n",
    "- 큐브와 같은 모양으로 세개의 축이 존재\n",
    "- 데이터가 연속된 시퀀스 데이터나 시간축이 포함된 시계열 데이터에 해당\n",
    "- ex) 주식 가격, 질병 발병 데이터"
   ]
  },
  {
   "cell_type": "code",
   "execution_count": 21,
   "id": "4224117c",
   "metadata": {},
   "outputs": [
    {
     "name": "stdout",
     "output_type": "stream",
     "text": [
      "3\n",
      "torch.Size([3, 3, 3])\n",
      "tensor([[[1, 2, 3],\n",
      "         [1, 2, 3],\n",
      "         [1, 2, 3]],\n",
      "\n",
      "        [[1, 2, 3],\n",
      "         [1, 2, 3],\n",
      "         [1, 2, 3]],\n",
      "\n",
      "        [[1, 2, 3],\n",
      "         [1, 2, 3],\n",
      "         [1, 2, 3]]])\n"
     ]
    }
   ],
   "source": [
    "t3 = torch.tensor([[[1,2,3], \n",
    "                   [1,2,3], \n",
    "                   [1,2,3]],\n",
    "\t\t            [[1,2,3], \n",
    "                   [1,2,3], \n",
    "                   [1,2,3]],\n",
    "\t\t            [[1,2,3], \n",
    "                   [1,2,3], \n",
    "                   [1,2,3]]])\n",
    "print(t3.ndim)\n",
    "print(t3.shape)\n",
    "print(t3)"
   ]
  },
  {
   "cell_type": "markdown",
   "id": "eb87c2de",
   "metadata": {},
   "source": [
    "#### 4D Tensor\n",
    "- 4개의 축\n",
    "- 컬러 이미지가 대표적인 사례\n",
    "- 주로 샘플, 높이, 너비, 컬러 채널을 가진 구조로 사용"
   ]
  },
  {
   "cell_type": "code",
   "execution_count": 23,
   "id": "a710b547",
   "metadata": {},
   "outputs": [
    {
     "name": "stdout",
     "output_type": "stream",
     "text": [
      "4\n",
      "torch.Size([2, 3, 3, 3])\n",
      "tensor([[[[1, 2, 3],\n",
      "          [1, 2, 3],\n",
      "          [1, 2, 3]],\n",
      "\n",
      "         [[1, 2, 3],\n",
      "          [1, 2, 3],\n",
      "          [1, 2, 3]],\n",
      "\n",
      "         [[1, 2, 3],\n",
      "          [1, 2, 3],\n",
      "          [1, 2, 3]]],\n",
      "\n",
      "\n",
      "        [[[1, 2, 3],\n",
      "          [1, 2, 3],\n",
      "          [1, 2, 3]],\n",
      "\n",
      "         [[1, 2, 3],\n",
      "          [1, 2, 3],\n",
      "          [1, 2, 3]],\n",
      "\n",
      "         [[1, 2, 3],\n",
      "          [1, 2, 3],\n",
      "          [1, 2, 3]]]])\n"
     ]
    }
   ],
   "source": [
    "t4 = torch.tensor([[[[1,2,3], \n",
    "                   [1,2,3], \n",
    "                   [1,2,3]],\n",
    "\t\t            [[1,2,3], \n",
    "                   [1,2,3], \n",
    "                   [1,2,3]],\n",
    "\t\t            [[1,2,3], \n",
    "                   [1,2,3], \n",
    "                   [1,2,3]]],\n",
    "\t\t            [[[1,2,3], \n",
    "                   [1,2,3], \n",
    "                   [1,2,3]],\n",
    "\t\t            [[1,2,3], \n",
    "                   [1,2,3], \n",
    "                   [1,2,3]],\n",
    "\t\t            [[1,2,3], \n",
    "                   [1,2,3], \n",
    "                   [1,2,3]]]])\n",
    "print(t4.ndim)\n",
    "print(t4.shape)\n",
    "print(t4)"
   ]
  },
  {
   "cell_type": "markdown",
   "id": "b442bace",
   "metadata": {},
   "source": [
    "#### 5D Tensor\n",
    "- 5개의 축\n",
    "- 비디오 데이터가 대표적 사례\n",
    "- 주로 샘플, 높이, 너비, 컬러 채널을 가진 구조로 사용"
   ]
  },
  {
   "cell_type": "code",
   "execution_count": 24,
   "id": "aa8d93db",
   "metadata": {},
   "outputs": [
    {
     "name": "stdout",
     "output_type": "stream",
     "text": [
      "5\n",
      "torch.Size([2, 2, 3, 3, 3])\n",
      "tensor([[[[[1, 2, 3],\n",
      "           [1, 2, 3],\n",
      "           [1, 2, 3]],\n",
      "\n",
      "          [[1, 2, 3],\n",
      "           [1, 2, 3],\n",
      "           [1, 2, 3]],\n",
      "\n",
      "          [[1, 2, 3],\n",
      "           [1, 2, 3],\n",
      "           [1, 2, 3]]],\n",
      "\n",
      "\n",
      "         [[[1, 2, 3],\n",
      "           [1, 2, 3],\n",
      "           [1, 2, 3]],\n",
      "\n",
      "          [[1, 2, 3],\n",
      "           [1, 2, 3],\n",
      "           [1, 2, 3]],\n",
      "\n",
      "          [[1, 2, 3],\n",
      "           [1, 2, 3],\n",
      "           [1, 2, 3]]]],\n",
      "\n",
      "\n",
      "\n",
      "        [[[[1, 2, 3],\n",
      "           [1, 2, 3],\n",
      "           [1, 2, 3]],\n",
      "\n",
      "          [[1, 2, 3],\n",
      "           [1, 2, 3],\n",
      "           [1, 2, 3]],\n",
      "\n",
      "          [[1, 2, 3],\n",
      "           [1, 2, 3],\n",
      "           [1, 2, 3]]],\n",
      "\n",
      "\n",
      "         [[[1, 2, 3],\n",
      "           [1, 2, 3],\n",
      "           [1, 2, 3]],\n",
      "\n",
      "          [[1, 2, 3],\n",
      "           [1, 2, 3],\n",
      "           [1, 2, 3]],\n",
      "\n",
      "          [[1, 2, 3],\n",
      "           [1, 2, 3],\n",
      "           [1, 2, 3]]]]])\n"
     ]
    }
   ],
   "source": [
    "t5 = torch.tensor([[[[[1,2,3], \n",
    "                   [1,2,3], \n",
    "                   [1,2,3]],\n",
    "\t\t            [[1,2,3], \n",
    "                   [1,2,3], \n",
    "                   [1,2,3]],\n",
    "\t\t            [[1,2,3], \n",
    "                   [1,2,3], \n",
    "                   [1,2,3]]],\n",
    "\t\t            [[[1,2,3], \n",
    "                   [1,2,3], \n",
    "                   [1,2,3]],\n",
    "\t\t            [[1,2,3], \n",
    "                   [1,2,3], \n",
    "                   [1,2,3]],\n",
    "\t\t            [[1,2,3], \n",
    "                   [1,2,3], \n",
    "                   [1,2,3]]]],\n",
    "\t\t            [[[[1,2,3], \n",
    "                   [1,2,3], \n",
    "                   [1,2,3]],\n",
    "\t\t            [[1,2,3], \n",
    "                   [1,2,3], \n",
    "                   [1,2,3]],\n",
    "\t\t            [[1,2,3], \n",
    "                   [1,2,3], \n",
    "                   [1,2,3]]],\n",
    "\t\t            [[[1,2,3], \n",
    "                   [1,2,3], \n",
    "                   [1,2,3]],\n",
    "\t\t            [[1,2,3], \n",
    "                   [1,2,3], \n",
    "                   [1,2,3]],\n",
    "\t\t            [[1,2,3], \n",
    "                   [1,2,3], \n",
    "                   [1,2,3]]]]])\n",
    "print(t5.ndim)\n",
    "print(t5.shape)\n",
    "print(t5)"
   ]
  }
 ],
 "metadata": {
  "kernelspec": {
   "display_name": "torch_study",
   "language": "python",
   "name": "python3"
  },
  "language_info": {
   "codemirror_mode": {
    "name": "ipython",
    "version": 3
   },
   "file_extension": ".py",
   "mimetype": "text/x-python",
   "name": "python",
   "nbconvert_exporter": "python",
   "pygments_lexer": "ipython3",
   "version": "3.13.7"
  }
 },
 "nbformat": 4,
 "nbformat_minor": 5
}
