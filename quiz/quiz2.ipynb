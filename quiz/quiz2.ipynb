{
 "cells": [
  {
   "cell_type": "markdown",
   "metadata": {},
   "source": [
    "## PyTorch Quiz 2 : 연산"
   ]
  },
  {
   "cell_type": "code",
   "execution_count": 1,
   "metadata": {},
   "outputs": [],
   "source": [
    "import torch"
   ]
  },
  {
   "cell_type": "markdown",
   "metadata": {},
   "source": [
    "### 1. 덧셈과 뺄셈 연습\n",
    "1. [2, 4, 6]으로 초기화된 1D Tensor를 생성하세요.\n",
    "2. 각 요소에 5를 더한 Tensor를 출력하세요.\n",
    "3. 각 요소에서 3을 뺀 Tensor를 출력하세요.\n"
   ]
  },
  {
   "cell_type": "code",
   "execution_count": 3,
   "metadata": {},
   "outputs": [
    {
     "name": "stdout",
     "output_type": "stream",
     "text": [
      "tensor([ 7,  9, 11])\n",
      "tensor([-1,  1,  3])\n"
     ]
    }
   ],
   "source": [
    "t1 = torch.tensor([2,4,6])\n",
    "add = torch.add(t1, 5)\n",
    "sub = torch.sub(t1, 3)\n",
    "print(\"더하기\", add)\n",
    "print(\"빼기\",sub)"
   ]
  },
  {
   "cell_type": "markdown",
   "metadata": {},
   "source": [
    "### 2. Tensor 간의 연산\n",
    "1. 3x3 크기의 Tensor 2개를 생성하세요.\n",
    "2. 두 Tensor를 각각 더하고(+), 빼고(-), 곱하고(*), 나누세요(/)."
   ]
  },
  {
   "cell_type": "code",
   "execution_count": 10,
   "metadata": {},
   "outputs": [
    {
     "name": "stdout",
     "output_type": "stream",
     "text": [
      "x tensor([[0.6022, 0.9274, 0.9383],\n",
      "        [0.4986, 0.0762, 0.5947],\n",
      "        [0.7108, 0.2629, 0.8784]])\n",
      "y tensor([[ 0.7418,  1.1895,  1.5196],\n",
      "        [ 0.1951,  0.9883, -0.0695],\n",
      "        [ 0.0446,  0.5595, -1.5167]])\n",
      "더하기 tensor([[ 1.3441,  2.1169,  2.4579],\n",
      "        [ 0.6937,  1.0645,  0.5251],\n",
      "        [ 0.7555,  0.8224, -0.6382]])\n",
      "빼기 tensor([[-0.1396, -0.2620, -0.5813],\n",
      "        [ 0.3035, -0.9120,  0.6642],\n",
      "        [ 0.6662, -0.2965,  2.3951]])\n",
      "곱하기 tensor([[ 0.4468,  1.1032,  1.4259],\n",
      "        [ 0.0973,  0.0753, -0.0413],\n",
      "        [ 0.0317,  0.1471, -1.3323]])\n",
      "나누기 tensor([[ 0.8118,  0.7797,  0.6175],\n",
      "        [ 2.5555,  0.0771, -8.5551],\n",
      "        [15.9342,  0.4700, -0.5792]])\n"
     ]
    }
   ],
   "source": [
    "x = torch.rand(3,3)\n",
    "y = torch.randn(3,3)\n",
    "\n",
    "add = torch.add(x,y)\n",
    "sub = torch.sub(x,y)\n",
    "mul = torch.mul(x,y)\n",
    "div = torch.div(x,y)\n",
    "\n",
    "print(\"x\", x)\n",
    "print(\"y\", y)\n",
    "print(\"더하기\", add)\n",
    "print(\"빼기\",sub)\n",
    "print(\"곱하기\", mul)\n",
    "print(\"나누기\", div)"
   ]
  },
  {
   "cell_type": "markdown",
   "metadata": {},
   "source": [
    "### 3. 행렬의 내적 연산\n",
    "1. 2×3 크기의 Tensor A를 다음 값으로 생성하세요:\n",
    "  - `[[1,2,3], [4,5,6]]`\n",
    "2. 3×2 크기의 Tensor B를 다음 값으로 생성하세요:\n",
    "  - `[[7,8],[9,10],[11,12]]`\n",
    "3. 두 Tensor의 행렬 내적(행렬 곱) A×B를 계산하여 출력하세요."
   ]
  },
  {
   "cell_type": "code",
   "execution_count": 7,
   "metadata": {},
   "outputs": [
    {
     "name": "stdout",
     "output_type": "stream",
     "text": [
      "tensor([[ 58,  64],\n",
      "        [139, 154]])\n"
     ]
    }
   ],
   "source": [
    "tA = torch.tensor([[1,2,3], [4,5,6]])\n",
    "tB = torch.tensor([[7,8],[9,10],[11,12]])\n",
    "\n",
    "print(torch.matmul(tA, tB))"
   ]
  },
  {
   "cell_type": "markdown",
   "metadata": {},
   "source": [
    "### 4. 행렬 연산과 값 제한\n",
    "1. 이전 문제에서 계산된 행렬 R(결과 행렬 A×B)를 사용하세요\n",
    "2. 행렬 R의 각 요소에 10을 더하세요.\n",
    "3. R의 각 요소를 100보다 큰 값은 100으로, 나머지는 그대로 유지하도록 제한하세요."
   ]
  },
  {
   "cell_type": "code",
   "execution_count": 12,
   "metadata": {},
   "outputs": [
    {
     "name": "stdout",
     "output_type": "stream",
     "text": [
      "tensor([[ 68,  74],\n",
      "        [100, 100]])\n"
     ]
    }
   ],
   "source": [
    "R = torch.tensor([[58, 64], [139, 154]])\n",
    "R.add_(10)\n",
    "print(torch.clamp(R, 0, 100))"
   ]
  },
  {
   "cell_type": "markdown",
   "metadata": {},
   "source": [
    "### 5. 행렬의 열별 합계 계산\n",
    "1. 5×5 크기의 Tensor M을 다음 값으로 생성하세요\n",
    "    ```\n",
    "    [[1, 2, 3, 4, 5],\n",
    "     [6, 7, 8, 9, 10],\n",
    "     [11, 12, 13, 14, 15],\n",
    "     [16, 17, 18, 19, 20],\n",
    "     [21, 22, 23, 24, 25]]\n",
    "    ```\n",
    "\n",
    "2. 행렬 M의 각 열의 합계를 계산하세요."
   ]
  },
  {
   "cell_type": "code",
   "execution_count": 9,
   "metadata": {},
   "outputs": [
    {
     "name": "stdout",
     "output_type": "stream",
     "text": [
      "tensor([55, 60, 65, 70, 75])\n"
     ]
    }
   ],
   "source": [
    "tM = torch.tensor([[1, 2, 3, 4, 5],\n",
    "                    [6, 7, 8, 9, 10],\n",
    "                    [11, 12, 13, 14, 15],\n",
    "                    [16, 17, 18, 19, 20],\n",
    "                    [21, 22, 23, 24, 25]])\n",
    "print(torch.sum(tM, dim=0))"
   ]
  }
 ],
 "metadata": {
  "kernelspec": {
   "display_name": "torch_study",
   "language": "python",
   "name": "python3"
  },
  "language_info": {
   "codemirror_mode": {
    "name": "ipython",
    "version": 3
   },
   "file_extension": ".py",
   "mimetype": "text/x-python",
   "name": "python",
   "nbconvert_exporter": "python",
   "pygments_lexer": "ipython3",
   "version": "3.13.7"
  }
 },
 "nbformat": 4,
 "nbformat_minor": 2
}
