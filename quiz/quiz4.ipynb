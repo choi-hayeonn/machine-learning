{
 "cells": [
  {
   "cell_type": "markdown",
   "metadata": {},
   "source": [
    "## PyTorch Quiz 4 : 텐서의 조작"
   ]
  },
  {
   "cell_type": "code",
   "execution_count": 1,
   "metadata": {},
   "outputs": [],
   "source": [
    "import torch"
   ]
  },
  {
   "cell_type": "markdown",
   "metadata": {},
   "source": [
    "### 문제1\n",
    "- 2차원 텐서 [[1, 2, 3], [4, 5, 6]]를 3x2 텐서로 변환해서 출력하세요."
   ]
  },
  {
   "cell_type": "code",
   "execution_count": 28,
   "metadata": {},
   "outputs": [
    {
     "name": "stdout",
     "output_type": "stream",
     "text": [
      "tensor([[1, 2],\n",
      "        [3, 4],\n",
      "        [5, 6]])\n"
     ]
    }
   ],
   "source": [
    "t1 = torch.tensor( [[1, 2, 3], [4, 5, 6]])\n",
    "result1 =  t1.view(3,2)\n",
    "print(result1)"
   ]
  },
  {
   "cell_type": "markdown",
   "metadata": {},
   "source": [
    "### 문제2\n",
    "- 단일 값 텐서 tensor(42)에서 값을 추출하고 데이터 타입을 확인해서 출력하세요."
   ]
  },
  {
   "cell_type": "code",
   "execution_count": 5,
   "metadata": {},
   "outputs": [
    {
     "name": "stdout",
     "output_type": "stream",
     "text": [
      "42\n",
      "torch.int64\n"
     ]
    }
   ],
   "source": [
    "t2 = torch.tensor(42)\n",
    "# (1) 값을 추출하고\n",
    "print(t2.item())\n",
    "# (2) 데이터 타입을 확인하세요.\n",
    "print(t2.dtype)"
   ]
  },
  {
   "cell_type": "markdown",
   "metadata": {},
   "source": [
    "### 문제 3\n",
    "- 3차원 텐서 [[[1, 2, 3]]]에서 크기가 1인 차원을 제거해서 출력하세요."
   ]
  },
  {
   "cell_type": "code",
   "execution_count": 32,
   "metadata": {},
   "outputs": [
    {
     "name": "stdout",
     "output_type": "stream",
     "text": [
      "torch.Size([1, 1, 3])\n",
      "tensor([1, 2, 3])\n",
      "torch.Size([3])\n"
     ]
    }
   ],
   "source": [
    "t3 = torch.tensor([[[1,2,3]]])\n",
    "print(t3.shape)\n",
    "result3 = torch.squeeze(t3)\n",
    "print(result3)\n",
    "print(result3.shape)"
   ]
  },
  {
   "cell_type": "markdown",
   "metadata": {},
   "source": [
    "### 문제 4\n",
    "- 1차원 텐서 [1, 2, 3]에 새로운 차원을 추가하여 2차원 텐서로 만들어 출력하세요."
   ]
  },
  {
   "cell_type": "code",
   "execution_count": 34,
   "metadata": {},
   "outputs": [
    {
     "name": "stdout",
     "output_type": "stream",
     "text": [
      "tensor([[1, 2, 3]])\n",
      "torch.Size([1, 3])\n"
     ]
    }
   ],
   "source": [
    "t4 = torch.tensor([1,2,3])\n",
    "result4 = torch.unsqueeze(t4, dim=0)\n",
    "print(result4)\n",
    "print(result4.shape)"
   ]
  },
  {
   "cell_type": "markdown",
   "metadata": {},
   "source": [
    "### 문제 5\n",
    "- 두 텐서 a = [1, 2]와 b = [3, 4]를 쌓아 2x2 텐서를 생성해서 출력하세요.\n"
   ]
  },
  {
   "cell_type": "code",
   "execution_count": 10,
   "metadata": {},
   "outputs": [
    {
     "name": "stdout",
     "output_type": "stream",
     "text": [
      "tensor([[1, 2],\n",
      "        [3, 4]])\n"
     ]
    }
   ],
   "source": [
    "a = torch.tensor([1,2])\n",
    "b = torch.tensor([3,4])\n",
    "t5 = torch.stack([a,b])\n",
    "print(t5)"
   ]
  },
  {
   "cell_type": "markdown",
   "metadata": {},
   "source": [
    "### 문제 6\n",
    "- 두 텐서 a = [[1, 2], [3, 4]]와 b = [[5, 6], [7, 8]]를 열 방향으로 연결해서 출력하세요."
   ]
  },
  {
   "cell_type": "code",
   "execution_count": 14,
   "metadata": {},
   "outputs": [
    {
     "name": "stdout",
     "output_type": "stream",
     "text": [
      "tensor([[1, 2, 5, 6],\n",
      "        [3, 4, 7, 8]])\n"
     ]
    }
   ],
   "source": [
    "a = torch.tensor([[1,2],[3,4]])\n",
    "b = torch.tensor([[5,6],[7,8]])\n",
    "t6 = torch.cat((a,b), dim=1)\n",
    "print(t6)"
   ]
  },
  {
   "cell_type": "markdown",
   "metadata": {},
   "source": [
    "### 문제 7\n",
    "- 텐서 [[1, 2, 3], [4, 5, 6]]를 2개의 조각으로 나눠서 출력해보세요. (행 기준)."
   ]
  },
  {
   "cell_type": "code",
   "execution_count": 16,
   "metadata": {},
   "outputs": [
    {
     "name": "stdout",
     "output_type": "stream",
     "text": [
      "tensor([[1, 2, 3]]) tensor([[4, 5, 6]])\n"
     ]
    }
   ],
   "source": [
    "t7 = torch.tensor([[1,2,3],[4,5,6]])\n",
    "t7_1, t7_2= torch.chunk(t7, 2)\n",
    "print(t7_1, t7_2)"
   ]
  },
  {
   "cell_type": "markdown",
   "metadata": {},
   "source": [
    "### 문제8\n",
    "- 텐서 [1, 2, 3, 4, 5]를 각각 2, 2, 1의 크기로 나눠서 출력해보세요."
   ]
  },
  {
   "cell_type": "code",
   "execution_count": 20,
   "metadata": {},
   "outputs": [
    {
     "name": "stdout",
     "output_type": "stream",
     "text": [
      "tensor([1, 2]) tensor([3, 4]) tensor([5])\n"
     ]
    }
   ],
   "source": [
    "t8 = torch.tensor([1,2,3,4,5])\n",
    "t8_1, t8_2, t8_3 = torch.split(t8, [2,2,1])\n",
    "print(t8_1, t8_2, t8_3)"
   ]
  },
  {
   "cell_type": "markdown",
   "metadata": {},
   "source": [
    "### 문제9\n",
    "- 텐서 [[1, 2], [3, 4], [5, 6]]에서:\n",
    "- dim=1 기준으로 크기 1씩 나누세요.\n",
    "- 각각의 조각을 새로운 축에 쌓은 후 출력해보세요."
   ]
  },
  {
   "cell_type": "code",
   "execution_count": 36,
   "metadata": {},
   "outputs": [
    {
     "name": "stdout",
     "output_type": "stream",
     "text": [
      "(tensor([[1],\n",
      "        [3],\n",
      "        [5]]), tensor([[2],\n",
      "        [4],\n",
      "        [6]]))\n",
      "tensor([[[1],\n",
      "         [3],\n",
      "         [5]],\n",
      "\n",
      "        [[2],\n",
      "         [4],\n",
      "         [6]]])\n"
     ]
    }
   ],
   "source": [
    "t9 = torch.tensor([[1,2],[3,4],[5,6]])\n",
    "# 1. 열 기준으로 크기 1씩 나누기\n",
    "t9_1 = torch.split(t9, 1, dim=1)\n",
    "print(t9_1)\n",
    "# 2. 새로운 축에 쌓기\n",
    "result9 = torch.stack(t9_1)\n",
    "print(result9)"
   ]
  },
  {
   "cell_type": "markdown",
   "metadata": {},
   "source": [
    "### 문제10\n",
    "- 다음 텐서를 활용해서 아래 문제를 해결해보세요\n",
    "  ```\n",
    "  a = torch.tensor([[1, 2], [3, 4]])\n",
    "  b = torch.tensor([[5, 6], [7, 8]])\n",
    "  ```\n",
    "\n",
    "1. 두 텐서를 열 기준으로 연결하고 결과를 출력하세요.\n",
    "2. 연결된 텐서를 크기 `(4, 2)`로 변환하세요.\n",
    "3. 변환된 텐서를 2개의 조각으로 나누고, 각 조각을 0번 축으로 스택하여 출력하세요.\n"
   ]
  },
  {
   "cell_type": "code",
   "execution_count": 38,
   "metadata": {},
   "outputs": [
    {
     "name": "stdout",
     "output_type": "stream",
     "text": [
      "tensor([[1, 2, 5, 6],\n",
      "        [3, 4, 7, 8]])\n",
      "tensor([[1, 2],\n",
      "        [5, 6],\n",
      "        [3, 4],\n",
      "        [7, 8]])\n",
      "(tensor([[1, 2],\n",
      "        [5, 6]]), tensor([[3, 4],\n",
      "        [7, 8]]))\n",
      "tensor([[[1, 2],\n",
      "         [5, 6]],\n",
      "\n",
      "        [[3, 4],\n",
      "         [7, 8]]])\n"
     ]
    }
   ],
   "source": [
    "a = torch.tensor([[1, 2], [3, 4]])\n",
    "b = torch.tensor([[5, 6], [7, 8]])\n",
    "# 1. 열 기준으로 병합\n",
    "t10_1 = torch.cat((a,b),dim=1)\n",
    "print(t10_1)\n",
    "# 2. 크기 (4, 2)로 변환\n",
    "t10_2 = t10_1.view(4,2)\n",
    "print(t10_2)\n",
    "# 3. 2개의 조각으로 나누고\n",
    "t10_3 = torch.chunk(t10_2, 2)\n",
    "print(t10_3)\n",
    "# 4. 0번 축으로 스택\n",
    "result10 = torch.stack(t10_3)\n",
    "print(result10)"
   ]
  }
 ],
 "metadata": {
  "kernelspec": {
   "display_name": "torch_study",
   "language": "python",
   "name": "python3"
  },
  "language_info": {
   "codemirror_mode": {
    "name": "ipython",
    "version": 3
   },
   "file_extension": ".py",
   "mimetype": "text/x-python",
   "name": "python",
   "nbconvert_exporter": "python",
   "pygments_lexer": "ipython3",
   "version": "3.13.7"
  }
 },
 "nbformat": 4,
 "nbformat_minor": 2
}
